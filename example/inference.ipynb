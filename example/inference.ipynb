{
 "cells": [
  {
   "cell_type": "markdown",
   "metadata": {},
   "source": [
    "# Infer building instances with a Mask-RCNN model"
   ]
  },
  {
   "cell_type": "code",
   "execution_count": 2,
   "metadata": {},
   "outputs": [
    {
     "name": "stderr",
     "output_type": "stream",
     "text": [
      "Using TensorFlow backend.\n"
     ]
    }
   ],
   "source": [
    "import os\n",
    "import numpy as np\n",
    "\n",
    "from mrcnn import model as modellib\n",
    "from mrcnn.config import Config"
   ]
  },
  {
   "cell_type": "code",
   "execution_count": 3,
   "metadata": {},
   "outputs": [],
   "source": [
    "from tanzania_challenge import buildings"
   ]
  },
  {
   "cell_type": "markdown",
   "metadata": {},
   "source": [
    "## Dataset configuration setting"
   ]
  },
  {
   "cell_type": "code",
   "execution_count": 4,
   "metadata": {},
   "outputs": [],
   "source": [
    "class BuildingConfig(Config):\n",
    "    NAME = \"building\"\n",
    "    NUM_CLASSES = 1 + 3\n",
    "    IMAGE_MIN_DIM = 384\n",
    "    IMAGE_MAX_DIM = 384\n",
    "    GPU_COUNT = 1\n",
    "    IMAGES_PER_GPU = 1"
   ]
  },
  {
   "cell_type": "code",
   "execution_count": 5,
   "metadata": {},
   "outputs": [],
   "source": [
    "config = BuildingConfig()"
   ]
  },
  {
   "cell_type": "markdown",
   "metadata": {},
   "source": [
    "## Model loading"
   ]
  },
  {
   "cell_type": "code",
   "execution_count": 6,
   "metadata": {},
   "outputs": [],
   "source": [
    "model_dir = os.path.join(\"..\", \"data\", \"open_ai_tanzania\", \"output\", \"instance_segmentation\", \"checkpoints\")\n",
    "model = modellib.MaskRCNN(mode=\"inference\", config=config, model_dir=model_dir)"
   ]
  },
  {
   "cell_type": "code",
   "execution_count": 7,
   "metadata": {},
   "outputs": [
    {
     "name": "stdout",
     "output_type": "stream",
     "text": [
      "Re-starting from epoch 60\n"
     ]
    }
   ],
   "source": [
    "weights_path = model.find_last()\n",
    "model.load_weights(weights_path, by_name=True)"
   ]
  },
  {
   "cell_type": "markdown",
   "metadata": {},
   "source": [
    "## Dataset declaration"
   ]
  },
  {
   "cell_type": "code",
   "execution_count": 8,
   "metadata": {},
   "outputs": [],
   "source": [
    "test_bd = buildings.BuildingDataset()\n",
    "test_bd.load_buildings(os.path.join(\"..\", \"data\", \"open_ai_tanzania\", \"preprocessed\"),\n",
    "                       subset=\"testing\", img_size=config.IMAGE_MIN_DIM)\n",
    "test_bd.prepare()"
   ]
  },
  {
   "cell_type": "code",
   "execution_count": 9,
   "metadata": {},
   "outputs": [],
   "source": [
    "nb_images = len(test_bd.image_info)"
   ]
  },
  {
   "cell_type": "code",
   "execution_count": 10,
   "metadata": {},
   "outputs": [
    {
     "data": {
      "text/plain": [
       "60340"
      ]
     },
     "execution_count": 10,
     "metadata": {},
     "output_type": "execute_result"
    }
   ],
   "source": [
    "test_bd.num_images"
   ]
  },
  {
   "cell_type": "code",
   "execution_count": 11,
   "metadata": {},
   "outputs": [
    {
     "name": "stdout",
     "output_type": "stream",
     "text": [
      "(1, 221, 267, 3)\n",
      "[]\n",
      "4.624317169189453\n",
      "(1, 384, 267, 3)\n",
      "[]\n",
      "3.337782859802246\n",
      "(1, 384, 267, 3)\n",
      "[]\n",
      "3.387141704559326\n",
      "(1, 384, 267, 3)\n",
      "[]\n",
      "3.382075548171997\n",
      "(1, 384, 267, 3)\n",
      "[]\n",
      "3.402156352996826\n"
     ]
    }
   ],
   "source": [
    "import time\n",
    "\n",
    "for image_id in test_bd.image_ids[:5]:\n",
    "    a = time.time()\n",
    "    image = test_bd.load_image(image_id)\n",
    "    print(np.expand_dims(image, 0).shape)\n",
    "    prediction = model.detect(np.expand_dims(image, 0))\n",
    "    print(prediction[0][\"class_ids\"])\n",
    "    b = time.time()\n",
    "    print(b-a)"
   ]
  },
  {
   "cell_type": "code",
   "execution_count": null,
   "metadata": {},
   "outputs": [],
   "source": []
  }
 ],
 "metadata": {
  "kernelspec": {
   "display_name": "Python 3",
   "language": "python",
   "name": "python3"
  },
  "language_info": {
   "codemirror_mode": {
    "name": "ipython",
    "version": 3
   },
   "file_extension": ".py",
   "mimetype": "text/x-python",
   "name": "python",
   "nbconvert_exporter": "python",
   "pygments_lexer": "ipython3",
   "version": "3.6.5"
  }
 },
 "nbformat": 4,
 "nbformat_minor": 2
}
