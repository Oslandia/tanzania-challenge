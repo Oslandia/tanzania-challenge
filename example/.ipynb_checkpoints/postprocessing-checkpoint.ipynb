{
 "cells": [
  {
   "cell_type": "code",
   "execution_count": 1,
   "metadata": {},
   "outputs": [],
   "source": [
    "import collections\n",
    "import cv2\n",
    "import geojson\n",
    "import json\n",
    "import matplotlib.pyplot as plt\n",
    "import numpy as np\n",
    "from osgeo import gdal\n",
    "import pandas as pd\n",
    "from PIL import Image\n",
    "import os\n",
    "from osgeo import gdal, osr\n",
    "import shapely.geometry as shgeom\n",
    "\n",
    "%matplotlib inline"
   ]
  },
  {
   "cell_type": "code",
   "execution_count": 2,
   "metadata": {},
   "outputs": [],
   "source": [
    "from tanzania_challenge import utils"
   ]
  },
  {
   "cell_type": "code",
   "execution_count": 3,
   "metadata": {},
   "outputs": [],
   "source": [
    "def pixel_to_coordinates(x, y, imfeatures):\n",
    "    lat = int(imfeatures[\"west\"] + (imfeatures[\"east\"]-imfeatures[\"west\"]) * x / imfeatures[\"width\"])\n",
    "    lon = int(imfeatures[\"south\"] + (imfeatures[\"north\"]-imfeatures[\"south\"]) * y / imfeatures[\"height\"])\n",
    "    return lat, lon"
   ]
  },
  {
   "cell_type": "code",
   "execution_count": 4,
   "metadata": {},
   "outputs": [],
   "source": [
    "def set_coordinates_as_x_y(lat, lon, srid):\n",
    "    \"\"\"Transform coordinates into a (x,y)-compatible projection\n",
    "\n",
    "    Parameters\n",
    "    ----------\n",
    "    coordinates : dict of 4 float values\n",
    "        Min-x, min-y, max-x and max-y coordinates with keys 'west', 'south',\n",
    "    'east', 'north'\n",
    "    image_filename : str\n",
    "        Image path on the file system (will be used to get the original image\n",
    "    projection)\n",
    "    srid : int\n",
    "        Geographical projection\n",
    "\n",
    "    Returns\n",
    "    -------\n",
    "    dict\n",
    "        Bounding box of the image (west, south, east, north coordinates)\n",
    "    \"\"\"\n",
    "    source = osr.SpatialReference()\n",
    "    source.ImportFromEPSG(srid)\n",
    "    target = osr.SpatialReference()\n",
    "    target.ImportFromEPSG(4326)\n",
    "    transform = osr.CoordinateTransformation(source, target)\n",
    "    x, y = transform.TransformPoint(lat, lon)[:2]\n",
    "    return y, x\n"
   ]
  },
  {
   "cell_type": "code",
   "execution_count": 5,
   "metadata": {},
   "outputs": [],
   "source": [
    "def pixel_to_latlon(x, y, imfeatures):\n",
    "    coordinates = pixel_to_coordinates(x, y, imfeatures)\n",
    "    return set_coordinates_as_x_y(coordinates[0], coordinates[1], imfeatures[\"srid\"])"
   ]
  },
  {
   "cell_type": "code",
   "execution_count": 6,
   "metadata": {},
   "outputs": [],
   "source": [
    "def build_geom(building, imfeatures=None, pixel=False, min_x=2500, min_y=2500):\n",
    "    feature = []\n",
    "    for point in building:\n",
    "        if pixel:\n",
    "            feature.append((int(min_x + point[0][0]), min_y + int(point[0][1])))\n",
    "        else:\n",
    "            feature.append(pixel_to_latlon(point[0][0], point[0][1], imfeatures))\n",
    "    feature.append(feature[0])\n",
    "    return feature"
   ]
  },
  {
   "cell_type": "code",
   "execution_count": 7,
   "metadata": {},
   "outputs": [],
   "source": [
    "def add_polygon(polygon, class_id, score, results, geofeatures, min_x=0, min_y=0):\n",
    "    \"\"\"\n",
    "    \"\"\"\n",
    "    feature = build_geom(polygon, imfeatures=geofeatures, pixel=False, min_x=min_x, min_y=min_y)\n",
    "    geom = geojson.Polygon([feature])\n",
    "    shape = shgeom.shape(geom)\n",
    "    pixel_feature = build_geom(polygon, pixel=True, min_x=0, min_y=0)\n",
    "    pixel_geom = geojson.Polygon([pixel_feature])\n",
    "    pixel_shape = shgeom.shape(pixel_geom)\n",
    "    predictions = np.zeros([3])\n",
    "    predictions[class_id-1] = score\n",
    "    return results.append([*predictions, shape.wkt, pixel_shape.wkt])"
   ]
  },
  {
   "cell_type": "code",
   "execution_count": 8,
   "metadata": {},
   "outputs": [],
   "source": [
    "def extract_geometry(mask, structure):\n",
    "    \"\"\"\n",
    "    \"\"\"\n",
    "    denoised = cv2.morphologyEx(mask, cv2.MORPH_OPEN, structure)\n",
    "    grown = cv2.morphologyEx(denoised, cv2.MORPH_CLOSE, structure)\n",
    "    _, contours, _ = cv2.findContours(grown, cv2.RETR_TREE, cv2.CHAIN_APPROX_SIMPLE)\n",
    "    polygons = [cv2.approxPolyDP(c, epsilon=0.01*cv2.arcLength(c, closed=True), closed=True)\n",
    "                for c in contours]\n",
    "    return polygons"
   ]
  },
  {
   "cell_type": "markdown",
   "metadata": {},
   "source": [
    "## Exploit a Mask-RCNN result"
   ]
  },
  {
   "cell_type": "code",
   "execution_count": 20,
   "metadata": {},
   "outputs": [],
   "source": [
    "datapath = os.path.join(\"..\", \"data\")"
   ]
  },
  {
   "cell_type": "code",
   "execution_count": 34,
   "metadata": {},
   "outputs": [
    {
     "name": "stdout",
     "output_type": "stream",
     "text": [
      "../data/open_ai_tanzania/preprocessed/384/testing/predicted_labels/5b00370f2b6a08001185f12b_384_339_13056_42240.json\n",
      "../data/open_ai_tanzania/preprocessed/384/testing/features/5b00370f2b6a08001185f12b_384_339_13056_42240.json\n"
     ]
    }
   ],
   "source": [
    "instance = \"5b00370f2b6a08001185f12b_384_339_13056_42240\"\n",
    "dataset = \"open_ai_tanzania\"\n",
    "filename = os.path.join(datapath, dataset, \"preprocessed\", \"384\", \"testing\", \"predicted_labels\",\n",
    "                       instance + \".json\")\n",
    "print(filename)\n",
    "feature_filename = os.path.join(datapath, dataset, \"preprocessed\", \"384\", \"testing\", \"features\",\n",
    "                       instance + \".json\")\n",
    "print(feature_filename)"
   ]
  },
  {
   "cell_type": "code",
   "execution_count": 35,
   "metadata": {},
   "outputs": [],
   "source": [
    "with open(filename) as f:\n",
    "    prediction = json.load(f)"
   ]
  },
  {
   "cell_type": "code",
   "execution_count": 36,
   "metadata": {},
   "outputs": [],
   "source": [
    "with open(feature_filename) as ff:\n",
    "    geofeatures = json.load(ff)"
   ]
  },
  {
   "cell_type": "code",
   "execution_count": 37,
   "metadata": {},
   "outputs": [
    {
     "data": {
      "text/plain": [
       "{'west': 538641.7104377747,\n",
       " 'south': 9332192.012682483,\n",
       " 'east': 538668.747877121,\n",
       " 'north': 9332215.881671906,\n",
       " 'srid': 32737,\n",
       " 'width': 384,\n",
       " 'height': 339}"
      ]
     },
     "execution_count": 37,
     "metadata": {},
     "output_type": "execute_result"
    }
   ],
   "source": [
    "geofeatures"
   ]
  },
  {
   "cell_type": "code",
   "execution_count": 38,
   "metadata": {},
   "outputs": [],
   "source": [
    "masks = np.array(prediction[\"masks\"], dtype=np.uint8)\n",
    "class_ids = np.array(prediction[\"class_ids\"], dtype=np.int8)\n",
    "scores = np.array(prediction[\"scores\"], dtype=np.float32)"
   ]
  },
  {
   "cell_type": "code",
   "execution_count": 39,
   "metadata": {},
   "outputs": [
    {
     "data": {
      "text/plain": [
       "(array([1, 1, 1, 1, 1, 1, 1, 1, 1, 1], dtype=int8),\n",
       " array([0.91013277, 0.88522816, 0.8289561 , 0.8233156 , 0.7863631 ,\n",
       "        0.75498605, 0.7497702 , 0.7326823 , 0.72139406, 0.7138151 ],\n",
       "       dtype=float32))"
      ]
     },
     "execution_count": 39,
     "metadata": {},
     "output_type": "execute_result"
    }
   ],
   "source": [
    "class_ids, scores"
   ]
  },
  {
   "cell_type": "code",
   "execution_count": 40,
   "metadata": {},
   "outputs": [
    {
     "ename": "IndexError",
     "evalue": "list index out of range",
     "output_type": "error",
     "traceback": [
      "\u001b[0;31m------------------------------------------------------------\u001b[0m",
      "\u001b[0;31mIndexError\u001b[0m                 Traceback (most recent call last)",
      "\u001b[0;32m<ipython-input-40-2fff1fbadf28>\u001b[0m in \u001b[0;36m<module>\u001b[0;34m()\u001b[0m\n\u001b[1;32m      3\u001b[0m \u001b[0;32mfor\u001b[0m \u001b[0mmask\u001b[0m\u001b[0;34m,\u001b[0m \u001b[0mclass_id\u001b[0m\u001b[0;34m,\u001b[0m \u001b[0mscore\u001b[0m \u001b[0;32min\u001b[0m \u001b[0mzip\u001b[0m\u001b[0;34m(\u001b[0m\u001b[0mmasks\u001b[0m\u001b[0;34m,\u001b[0m \u001b[0mclass_ids\u001b[0m\u001b[0;34m,\u001b[0m \u001b[0mscores\u001b[0m\u001b[0;34m)\u001b[0m\u001b[0;34m:\u001b[0m\u001b[0;34m\u001b[0m\u001b[0m\n\u001b[1;32m      4\u001b[0m     \u001b[0mpolygon\u001b[0m \u001b[0;34m=\u001b[0m \u001b[0mextract_geometry\u001b[0m\u001b[0;34m(\u001b[0m\u001b[0mmask\u001b[0m\u001b[0;34m,\u001b[0m \u001b[0mstructure\u001b[0m\u001b[0;34m)\u001b[0m\u001b[0;34m\u001b[0m\u001b[0m\n\u001b[0;32m----> 5\u001b[0;31m     \u001b[0madd_polygon\u001b[0m\u001b[0;34m(\u001b[0m\u001b[0mpolygon\u001b[0m\u001b[0;34m[\u001b[0m\u001b[0;36m0\u001b[0m\u001b[0;34m]\u001b[0m\u001b[0;34m,\u001b[0m \u001b[0mclass_id\u001b[0m\u001b[0;34m,\u001b[0m \u001b[0mscore\u001b[0m\u001b[0;34m,\u001b[0m \u001b[0mresults\u001b[0m\u001b[0;34m,\u001b[0m \u001b[0mgeofeatures\u001b[0m\u001b[0;34m,\u001b[0m \u001b[0mmin_x\u001b[0m\u001b[0;34m=\u001b[0m\u001b[0;36m8832\u001b[0m\u001b[0;34m,\u001b[0m \u001b[0mmin_y\u001b[0m\u001b[0;34m=\u001b[0m\u001b[0;36m39168\u001b[0m\u001b[0;34m)\u001b[0m\u001b[0;34m\u001b[0m\u001b[0m\n\u001b[0m",
      "\u001b[0;31mIndexError\u001b[0m: list index out of range"
     ]
    }
   ],
   "source": [
    "results = []\n",
    "structure = cv2.getStructuringElement(cv2.MORPH_ELLIPSE, (5, 5))\n",
    "for mask, class_id, score in zip(masks, class_ids, scores):\n",
    "    polygon = extract_geometry(mask, structure)\n",
    "    add_polygon(polygon[0], class_id, score, results, geofeatures, min_x=8832, min_y=39168)"
   ]
  },
  {
   "cell_type": "code",
   "execution_count": 44,
   "metadata": {},
   "outputs": [
    {
     "name": "stdout",
     "output_type": "stream",
     "text": [
      "(339, 384)\n",
      "0\n",
      "(339, 384)\n",
      "0\n",
      "(339, 384)\n",
      "0\n",
      "(339, 384)\n",
      "0\n",
      "(339, 384)\n",
      "0\n",
      "(339, 384)\n",
      "0\n",
      "(339, 384)\n",
      "0\n",
      "(339, 384)\n",
      "3\n",
      "(339, 384)\n",
      "0\n",
      "(339, 384)\n",
      "0\n"
     ]
    }
   ],
   "source": [
    "for mask, class_id, score in zip(masks, class_ids, scores):\n",
    "    print(mask.shape)\n",
    "    polygon = extract_geometry(mask, structure)\n",
    "    print(len(polygon))"
   ]
  },
  {
   "cell_type": "code",
   "execution_count": 29,
   "metadata": {},
   "outputs": [],
   "source": [
    "df = pd.DataFrame(results, columns=[\"conf_completed\", \"conf_unfinished\", \"conf_foundation\", \"coords_geo\", \"coords_pixel\"])"
   ]
  },
  {
   "cell_type": "code",
   "execution_count": 30,
   "metadata": {},
   "outputs": [
    {
     "data": {
      "text/html": [
       "<div>\n",
       "<style scoped>\n",
       "    .dataframe tbody tr th:only-of-type {\n",
       "        vertical-align: middle;\n",
       "    }\n",
       "\n",
       "    .dataframe tbody tr th {\n",
       "        vertical-align: top;\n",
       "    }\n",
       "\n",
       "    .dataframe thead th {\n",
       "        text-align: right;\n",
       "    }\n",
       "</style>\n",
       "<table border=\"1\" class=\"dataframe\">\n",
       "  <thead>\n",
       "    <tr style=\"text-align: right;\">\n",
       "      <th></th>\n",
       "      <th>conf_completed</th>\n",
       "      <th>conf_unfinished</th>\n",
       "      <th>conf_foundation</th>\n",
       "      <th>coords_geo</th>\n",
       "      <th>coords_pixel</th>\n",
       "    </tr>\n",
       "  </thead>\n",
       "  <tbody>\n",
       "    <tr>\n",
       "      <th>0</th>\n",
       "      <td>0.995283</td>\n",
       "      <td>0.0</td>\n",
       "      <td>0.0</td>\n",
       "      <td>POLYGON ((-5.887593420467479 39.30263143852897...</td>\n",
       "      <td>POLYGON ((68 230, 68 355, 225 374, 263 370, 28...</td>\n",
       "    </tr>\n",
       "    <tr>\n",
       "      <th>1</th>\n",
       "      <td>0.953838</td>\n",
       "      <td>0.0</td>\n",
       "      <td>0.0</td>\n",
       "      <td>POLYGON ((-5.887738145454385 39.30265861872731...</td>\n",
       "      <td>POLYGON ((100 9, 95 67, 116 89, 135 97, 178 10...</td>\n",
       "    </tr>\n",
       "  </tbody>\n",
       "</table>\n",
       "</div>"
      ],
      "text/plain": [
       "   conf_completed  conf_unfinished  conf_foundation  \\\n",
       "0        0.995283              0.0              0.0   \n",
       "1        0.953838              0.0              0.0   \n",
       "\n",
       "                                          coords_geo  \\\n",
       "0  POLYGON ((-5.887593420467479 39.30263143852897...   \n",
       "1  POLYGON ((-5.887738145454385 39.30265861872731...   \n",
       "\n",
       "                                        coords_pixel  \n",
       "0  POLYGON ((68 230, 68 355, 225 374, 263 370, 28...  \n",
       "1  POLYGON ((100 9, 95 67, 116 89, 135 97, 178 10...  "
      ]
     },
     "execution_count": 30,
     "metadata": {},
     "output_type": "execute_result"
    }
   ],
   "source": [
    "df"
   ]
  },
  {
   "cell_type": "code",
   "execution_count": 31,
   "metadata": {},
   "outputs": [
    {
     "data": {
      "text/plain": [
       "'POLYGON ((-5.887593420467479 39.30263143852897, -5.887521050621243 39.30263139937178, -5.887502904237025 39.30273076310959, -5.887502889527782 39.30275786498044, -5.887520977085768 39.30276690873098, -5.887557157104888 39.30277596227609, -5.887584305603882 39.30275790905058, -5.887602437287597 39.30268564717542, -5.887593420467479 39.30263143852897))'"
      ]
     },
     "execution_count": 31,
     "metadata": {},
     "output_type": "execute_result"
    }
   ],
   "source": [
    "df[\"coords_geo\"][0]"
   ]
  },
  {
   "cell_type": "code",
   "execution_count": null,
   "metadata": {},
   "outputs": [],
   "source": []
  }
 ],
 "metadata": {
  "kernelspec": {
   "display_name": "Python 3",
   "language": "python",
   "name": "python3"
  },
  "language_info": {
   "codemirror_mode": {
    "name": "ipython",
    "version": 3
   },
   "file_extension": ".py",
   "mimetype": "text/x-python",
   "name": "python",
   "nbconvert_exporter": "python",
   "pygments_lexer": "ipython3",
   "version": "3.6.5"
  }
 },
 "nbformat": 4,
 "nbformat_minor": 2
}
