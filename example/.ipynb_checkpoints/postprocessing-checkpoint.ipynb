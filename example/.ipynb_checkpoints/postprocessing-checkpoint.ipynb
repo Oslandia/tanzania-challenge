{
 "cells": [
  {
   "cell_type": "code",
   "execution_count": 1,
   "metadata": {},
   "outputs": [],
   "source": [
    "import collections\n",
    "import cv2\n",
    "import geojson\n",
    "import json\n",
    "import matplotlib.pyplot as plt\n",
    "import numpy as np\n",
    "from osgeo import gdal\n",
    "import pandas as pd\n",
    "from PIL import Image\n",
    "import os\n",
    "import shapely.geometry as shgeom\n",
    "\n",
    "%matplotlib inline"
   ]
  },
  {
   "cell_type": "code",
   "execution_count": 2,
   "metadata": {},
   "outputs": [],
   "source": [
    "from tanzania_challenge import utils"
   ]
  },
  {
   "cell_type": "code",
   "execution_count": 3,
   "metadata": {},
   "outputs": [
    {
     "name": "stdout",
     "output_type": "stream",
     "text": [
      "/home/rde/data/aerial/preprocessed/250_full/validation/labels/austin34_210.tif\n"
     ]
    }
   ],
   "source": [
    "datapath = os.path.join(\"/home\", \"rde\", \"data\")\n",
    "dataset = \"aerial\"\n",
    "filepath = os.path.join(\"preprocessed\", \"250_full\", \"validation\", \"labels\", \"austin34_210.tif\")\n",
    "filename = os.path.join(datapath, dataset, filepath)\n",
    "print(filename)\n",
    "raw_image_path = os.path.join(\"input\", \"validation\", \"gt\", \"austin34.tif\")\n",
    "raw_image = os.path.join(datapath, dataset, raw_image_path)"
   ]
  },
  {
   "cell_type": "code",
   "execution_count": 4,
   "metadata": {},
   "outputs": [],
   "source": [
    "# pixel = [200, 50, 50]\n",
    "pixel = 255"
   ]
  },
  {
   "cell_type": "code",
   "execution_count": 5,
   "metadata": {},
   "outputs": [],
   "source": [
    "def flatten(data):\n",
    "    if len(data.shape) == 3:\n",
    "        return np.reshape(data, [-1, data.shape[2]])\n",
    "    else:\n",
    "        return np.reshape(data, [-1])"
   ]
  },
  {
   "cell_type": "code",
   "execution_count": 6,
   "metadata": {},
   "outputs": [],
   "source": [
    "def count_pixels(data):\n",
    "    if len(data.shape) == 3:\n",
    "        df = pd.DataFrame(flatten(data), columns=[\"red\", \"green\", \"blue\"])                                   \n",
    "        return df.groupby([\"red\", \"green\", \"blue\"])[\"red\"].count()\n",
    "    else:\n",
    "        return pd.Series(flatten(data)).value_counts()"
   ]
  },
  {
   "cell_type": "code",
   "execution_count": 7,
   "metadata": {},
   "outputs": [],
   "source": [
    "def unique_pixels(data):\n",
    "    return np.unique(flatten(data), axis=0)"
   ]
  },
  {
   "cell_type": "code",
   "execution_count": 8,
   "metadata": {},
   "outputs": [],
   "source": [
    "def masking(data, pixel):\n",
    "    mask = np.zeros(data.shape[0] * data.shape[1], dtype=np.uint8)\n",
    "    if len(data.shape) == 3:\n",
    "        mask[np.all(flatten(data) == pixel, axis=1)] = 1\n",
    "    else:\n",
    "        mask[flatten(data) == pixel] = 1\n",
    "    return np.reshape(mask, [data.shape[0], data.shape[1]])"
   ]
  },
  {
   "cell_type": "code",
   "execution_count": 9,
   "metadata": {},
   "outputs": [],
   "source": [
    "im = Image.open(filename)\n",
    "data = np.array(im, dtype=np.uint8)"
   ]
  },
  {
   "cell_type": "code",
   "execution_count": 10,
   "metadata": {},
   "outputs": [
    {
     "data": {
      "text/plain": [
       "array([  0, 255], dtype=uint8)"
      ]
     },
     "execution_count": 10,
     "metadata": {},
     "output_type": "execute_result"
    }
   ],
   "source": [
    "unique_pixels(data)"
   ]
  },
  {
   "cell_type": "code",
   "execution_count": 11,
   "metadata": {},
   "outputs": [
    {
     "data": {
      "text/plain": [
       "0      53696\n",
       "255     3904\n",
       "dtype: int64"
      ]
     },
     "execution_count": 11,
     "metadata": {},
     "output_type": "execute_result"
    }
   ],
   "source": [
    "count_pixels(data)"
   ]
  },
  {
   "cell_type": "code",
   "execution_count": 12,
   "metadata": {},
   "outputs": [],
   "source": [
    "maskdata = masking(data, pixel)"
   ]
  },
  {
   "cell_type": "code",
   "execution_count": 13,
   "metadata": {},
   "outputs": [
    {
     "data": {
      "image/png": "[encoded data removed]",
      "text/plain": [
       "<Figure size 216x216 with 1 Axes>"
      ]
     },
     "metadata": {
      "needs_background": "light"
     },
     "output_type": "display_data"
    }
   ],
   "source": [
    "f, ax = plt.subplots(1, 1, figsize=(3, 3))\n",
    "ax = plt.imshow(data)"
   ]
  },
  {
   "cell_type": "code",
   "execution_count": 14,
   "metadata": {},
   "outputs": [
    {
     "data": {
      "image/png": "[encoded data removed]",
      "text/plain": [
       "<Figure size 432x288 with 1 Axes>"
      ]
     },
     "metadata": {
      "needs_background": "light"
     },
     "output_type": "display_data"
    }
   ],
   "source": [
    "implot = plt.imshow(maskdata)"
   ]
  },
  {
   "cell_type": "code",
   "execution_count": 15,
   "metadata": {},
   "outputs": [
    {
     "data": {
      "image/png": "[encoded data removed]",
      "text/plain": [
       "<Figure size 432x288 with 1 Axes>"
      ]
     },
     "metadata": {
      "needs_background": "light"
     },
     "output_type": "display_data"
    }
   ],
   "source": [
    "structure = cv2.getStructuringElement(cv2.MORPH_ELLIPSE, (5, 5))\n",
    "denoised = cv2.morphologyEx(maskdata, cv2.MORPH_OPEN, structure)\n",
    "implot = plt.imshow(denoised)"
   ]
  },
  {
   "cell_type": "code",
   "execution_count": 16,
   "metadata": {},
   "outputs": [
    {
     "data": {
      "image/png": "[encoded data removed]",
      "text/plain": [
       "<Figure size 432x288 with 1 Axes>"
      ]
     },
     "metadata": {
      "needs_background": "light"
     },
     "output_type": "display_data"
    }
   ],
   "source": [
    "grown = cv2.morphologyEx(denoised, cv2.MORPH_CLOSE, structure)\n",
    "implot = plt.imshow(grown)"
   ]
  },
  {
   "cell_type": "code",
   "execution_count": 17,
   "metadata": {},
   "outputs": [],
   "source": [
    "_, contours, hierarchy = cv2.findContours(data, cv2.RETR_TREE, cv2.CHAIN_APPROX_SIMPLE)\n",
    "hierarchy = hierarchy[0]"
   ]
  },
  {
   "cell_type": "code",
   "execution_count": 18,
   "metadata": {},
   "outputs": [],
   "source": [
    "polygons = [cv2.approxPolyDP(c, epsilon=0.01*cv2.arcLength(c, closed=True), closed=True) for c in contours]"
   ]
  },
  {
   "cell_type": "code",
   "execution_count": 19,
   "metadata": {},
   "outputs": [
    {
     "data": {
      "text/plain": [
       "10"
      ]
     },
     "execution_count": 19,
     "metadata": {},
     "output_type": "execute_result"
    }
   ],
   "source": [
    "len(polygons)"
   ]
  },
  {
   "cell_type": "code",
   "execution_count": 20,
   "metadata": {},
   "outputs": [
    {
     "data": {
      "text/plain": [
       "array([[[146,  58]],\n",
       "\n",
       "       [[147,  57]],\n",
       "\n",
       "       [[148,  58]],\n",
       "\n",
       "       [[147,  59]]], dtype=int32)"
      ]
     },
     "execution_count": 20,
     "metadata": {},
     "output_type": "execute_result"
    }
   ],
   "source": [
    "polygons[3]"
   ]
  },
  {
   "cell_type": "code",
   "execution_count": 23,
   "metadata": {},
   "outputs": [
    {
     "data": {
      "text/plain": [
       "'PROJCS[\"NAD83 / UTM zone 14N\",GEOGCS[\"NAD83\",DATUM[\"North_American_Datum_1983\",SPHEROID[\"GRS 1980\",6378137,298.257222101,AUTHORITY[\"EPSG\",\"7019\"]],TOWGS84[0,0,0,0,0,0,0],AUTHORITY[\"EPSG\",\"6269\"]],PRIMEM[\"Greenwich\",0,AUTHORITY[\"EPSG\",\"8901\"]],UNIT[\"degree\",0.0174532925199433,AUTHORITY[\"EPSG\",\"9122\"]],AUTHORITY[\"EPSG\",\"4269\"]],PROJECTION[\"Transverse_Mercator\"],PARAMETER[\"latitude_of_origin\",0],PARAMETER[\"central_meridian\",-99],PARAMETER[\"scale_factor\",0.9996],PARAMETER[\"false_easting\",500000],PARAMETER[\"false_northing\",0],UNIT[\"metre\",1,AUTHORITY[\"EPSG\",\"9001\"]],AXIS[\"Easting\",EAST],AXIS[\"Northing\",NORTH],AUTHORITY[\"EPSG\",\"26914\"]]'"
      ]
     },
     "execution_count": 23,
     "metadata": {},
     "output_type": "execute_result"
    }
   ],
   "source": [
    "datasource = gdal.Open(raw_image)\n",
    "raw_data = datasource.ReadAsArray()\n",
    "raw_data.shape\n",
    "datasource.GetProjection()"
   ]
  },
  {
   "cell_type": "code",
   "execution_count": 24,
   "metadata": {},
   "outputs": [
    {
     "data": {
      "text/plain": [
       "{'west': 624000.0,\n",
       " 'south': 3348000.0,\n",
       " 'east': 625500.0,\n",
       " 'north': 3349500.0,\n",
       " 'srid': 26914,\n",
       " 'width': 5000,\n",
       " 'height': 5000}"
      ]
     },
     "execution_count": 24,
     "metadata": {},
     "output_type": "execute_result"
    }
   ],
   "source": [
    "utils.get_image_features(raw_image)"
   ]
  },
  {
   "cell_type": "code",
   "execution_count": 25,
   "metadata": {},
   "outputs": [
    {
     "data": {
      "text/plain": [
       "(240, 240)"
      ]
     },
     "execution_count": 25,
     "metadata": {},
     "output_type": "execute_result"
    }
   ],
   "source": [
    "data.shape"
   ]
  },
  {
   "cell_type": "code",
   "execution_count": 27,
   "metadata": {},
   "outputs": [
    {
     "name": "stdout",
     "output_type": "stream",
     "text": [
      "(624000.0, 0.3, 0.0, 3349500.0, 0.0, -0.3)\n",
      "5000\n",
      "-0.3\n",
      "1500.0\n",
      "-1500.0\n"
     ]
    }
   ],
   "source": [
    "geotransform = datasource.GetGeoTransform()\n",
    "print(datasource.GetGeoTransform())\n",
    "print(datasource.RasterXSize)\n",
    "print(datasource.GetGeoTransform()[5])\n",
    "print(datasource.RasterXSize * geotransform[1])\n",
    "print(datasource.RasterYSize * geotransform[5])"
   ]
  },
  {
   "cell_type": "code",
   "execution_count": 28,
   "metadata": {},
   "outputs": [],
   "source": [
    "def geo_project_label(data, datasource):\n",
    "    driver = gdal.GetDriverByName(\"MEM\")\n",
    "    out_source = driver.Create(\"\", data.shape[0], data.shape[1], 1, gdal.GDT_Int16)\n",
    "    out_source.SetProjection(datasource.GetProjection())\n",
    "    geotransform = list(datasource.GetGeoTransform())\n",
    "    geotransform[0] = geotransform[0] + (datasource.RasterXSize * geotransform[1]) * 10 / 20\n",
    "    geotransform[3] = geotransform[3] + (datasource.RasterYSize * geotransform[5]) * 10 / 20\n",
    "    out_source.SetGeoTransform(tuple(geotransform))\n",
    "    return out_source"
   ]
  },
  {
   "cell_type": "code",
   "execution_count": 61,
   "metadata": {},
   "outputs": [],
   "source": [
    "def get_image_features(ds):\n",
    "    width = ds.RasterXSize\n",
    "    height = ds.RasterYSize\n",
    "    gt = ds.GetGeoTransform()\n",
    "    minx = gt[0]\n",
    "    miny = gt[3] + height * gt[5] * 250/240\n",
    "    maxx = gt[0] + width * gt[1] * 250/240\n",
    "    maxy = gt[3]\n",
    "    srid = int(ds.GetProjection().split('\"')[-2])\n",
    "    return {\"west\": minx, \"south\": miny, \"east\": maxx, \"north\": maxy, \"srid\": srid, \"width\": width, \"height\": height}"
   ]
  },
  {
   "cell_type": "code",
   "execution_count": 30,
   "metadata": {},
   "outputs": [],
   "source": [
    "ds = geo_project_label(data, datasource)\n",
    "imfeatures = get_image_features(ds)"
   ]
  },
  {
   "cell_type": "code",
   "execution_count": 31,
   "metadata": {},
   "outputs": [
    {
     "data": {
      "text/plain": [
       "{'west': 624750.0,\n",
       " 'south': 3348675.0,\n",
       " 'east': 624825.0,\n",
       " 'north': 3348750.0,\n",
       " 'srid': 26914,\n",
       " 'width': 240,\n",
       " 'height': 240}"
      ]
     },
     "execution_count": 31,
     "metadata": {},
     "output_type": "execute_result"
    }
   ],
   "source": [
    "imfeatures"
   ]
  },
  {
   "cell_type": "code",
   "execution_count": 32,
   "metadata": {},
   "outputs": [
    {
     "data": {
      "text/plain": [
       "array([[[43, 59]],\n",
       "\n",
       "       [[42, 60]],\n",
       "\n",
       "       [[42, 62]],\n",
       "\n",
       "       [[41, 63]],\n",
       "\n",
       "       [[41, 64]],\n",
       "\n",
       "       [[40, 65]],\n",
       "\n",
       "       [[40, 67]],\n",
       "\n",
       "       [[39, 68]],\n",
       "\n",
       "       [[39, 69]],\n",
       "\n",
       "       [[38, 70]],\n",
       "\n",
       "       [[38, 71]],\n",
       "\n",
       "       [[37, 72]],\n",
       "\n",
       "       [[37, 74]],\n",
       "\n",
       "       [[36, 75]],\n",
       "\n",
       "       [[36, 79]],\n",
       "\n",
       "       [[35, 80]],\n",
       "\n",
       "       [[35, 81]],\n",
       "\n",
       "       [[34, 82]],\n",
       "\n",
       "       [[34, 83]],\n",
       "\n",
       "       [[35, 83]],\n",
       "\n",
       "       [[36, 84]],\n",
       "\n",
       "       [[37, 84]],\n",
       "\n",
       "       [[38, 85]],\n",
       "\n",
       "       [[40, 85]],\n",
       "\n",
       "       [[41, 86]],\n",
       "\n",
       "       [[42, 86]],\n",
       "\n",
       "       [[43, 87]],\n",
       "\n",
       "       [[44, 87]],\n",
       "\n",
       "       [[45, 88]],\n",
       "\n",
       "       [[47, 88]],\n",
       "\n",
       "       [[48, 89]],\n",
       "\n",
       "       [[49, 89]],\n",
       "\n",
       "       [[50, 90]],\n",
       "\n",
       "       [[52, 90]],\n",
       "\n",
       "       [[53, 91]],\n",
       "\n",
       "       [[54, 91]],\n",
       "\n",
       "       [[55, 92]],\n",
       "\n",
       "       [[56, 92]],\n",
       "\n",
       "       [[57, 93]],\n",
       "\n",
       "       [[59, 93]],\n",
       "\n",
       "       [[61, 95]],\n",
       "\n",
       "       [[62, 95]],\n",
       "\n",
       "       [[63, 94]],\n",
       "\n",
       "       [[63, 92]],\n",
       "\n",
       "       [[64, 91]],\n",
       "\n",
       "       [[64, 90]],\n",
       "\n",
       "       [[65, 89]],\n",
       "\n",
       "       [[65, 88]],\n",
       "\n",
       "       [[66, 87]],\n",
       "\n",
       "       [[66, 85]],\n",
       "\n",
       "       [[68, 83]],\n",
       "\n",
       "       [[68, 81]],\n",
       "\n",
       "       [[69, 80]],\n",
       "\n",
       "       [[69, 79]],\n",
       "\n",
       "       [[70, 78]],\n",
       "\n",
       "       [[70, 76]],\n",
       "\n",
       "       [[71, 75]],\n",
       "\n",
       "       [[71, 74]],\n",
       "\n",
       "       [[72, 73]],\n",
       "\n",
       "       [[72, 72]],\n",
       "\n",
       "       [[73, 71]],\n",
       "\n",
       "       [[72, 71]],\n",
       "\n",
       "       [[71, 70]],\n",
       "\n",
       "       [[69, 70]],\n",
       "\n",
       "       [[68, 69]],\n",
       "\n",
       "       [[67, 69]],\n",
       "\n",
       "       [[66, 68]],\n",
       "\n",
       "       [[64, 68]],\n",
       "\n",
       "       [[63, 67]],\n",
       "\n",
       "       [[62, 67]],\n",
       "\n",
       "       [[61, 66]],\n",
       "\n",
       "       [[60, 66]],\n",
       "\n",
       "       [[59, 65]],\n",
       "\n",
       "       [[58, 65]],\n",
       "\n",
       "       [[57, 64]],\n",
       "\n",
       "       [[56, 64]],\n",
       "\n",
       "       [[55, 63]],\n",
       "\n",
       "       [[53, 63]],\n",
       "\n",
       "       [[52, 62]],\n",
       "\n",
       "       [[51, 62]],\n",
       "\n",
       "       [[50, 61]],\n",
       "\n",
       "       [[48, 61]],\n",
       "\n",
       "       [[47, 60]],\n",
       "\n",
       "       [[44, 60]]], dtype=int32)"
      ]
     },
     "execution_count": 32,
     "metadata": {},
     "output_type": "execute_result"
    }
   ],
   "source": [
    "contours[0]"
   ]
  },
  {
   "cell_type": "code",
   "execution_count": 76,
   "metadata": {},
   "outputs": [],
   "source": [
    "def pixel_to_coordinates(x, y, imfeatures):\n",
    "    lat = int(imfeatures[\"west\"] + (imfeatures[\"east\"]-imfeatures[\"west\"]) * x / imfeatures[\"width\"])\n",
    "    lon = int(imfeatures[\"south\"] + (imfeatures[\"north\"]-imfeatures[\"south\"]) * y / imfeatures[\"height\"])\n",
    "    return lat, lon"
   ]
  },
  {
   "cell_type": "code",
   "execution_count": 77,
   "metadata": {},
   "outputs": [
    {
     "ename": "IndexError",
     "evalue": "list index out of range",
     "output_type": "error",
     "traceback": [
      "\u001b[0;31m---------------------------------------------------------------\u001b[0m",
      "\u001b[0;31mIndexError\u001b[0m                    Traceback (most recent call last)",
      "\u001b[0;32m<ipython-input-77-396d236f03af>\u001b[0m in \u001b[0;36m<module>\u001b[0;34m()\u001b[0m\n\u001b[0;32m----> 1\u001b[0;31m \u001b[0mpixel_to_coordinates\u001b[0m\u001b[0;34m(\u001b[0m\u001b[0mcontours\u001b[0m\u001b[0;34m[\u001b[0m\u001b[0;36m1\u001b[0m\u001b[0;34m]\u001b[0m\u001b[0;34m[\u001b[0m\u001b[0;36m0\u001b[0m\u001b[0;34m]\u001b[0m\u001b[0;34m[\u001b[0m\u001b[0;36m0\u001b[0m\u001b[0;34m]\u001b[0m\u001b[0;34m[\u001b[0m\u001b[0;36m0\u001b[0m\u001b[0;34m]\u001b[0m\u001b[0;34m,\u001b[0m \u001b[0mcontours\u001b[0m\u001b[0;34m[\u001b[0m\u001b[0;36m1\u001b[0m\u001b[0;34m]\u001b[0m\u001b[0;34m[\u001b[0m\u001b[0;36m0\u001b[0m\u001b[0;34m]\u001b[0m\u001b[0;34m[\u001b[0m\u001b[0;36m0\u001b[0m\u001b[0;34m]\u001b[0m\u001b[0;34m[\u001b[0m\u001b[0;36m1\u001b[0m\u001b[0;34m]\u001b[0m\u001b[0;34m,\u001b[0m \u001b[0mimfeatures\u001b[0m\u001b[0;34m)\u001b[0m\u001b[0;34m\u001b[0m\u001b[0m\n\u001b[0m",
      "\u001b[0;31mIndexError\u001b[0m: list index out of range"
     ]
    }
   ],
   "source": [
    "pixel_to_coordinates(contours[1][0][0][0], contours[1][0][0][1], imfeatures)"
   ]
  },
  {
   "cell_type": "code",
   "execution_count": 116,
   "metadata": {},
   "outputs": [],
   "source": [
    "from osgeo import gdal, osr\n",
    "def set_coordinates_as_x_y(lat, lon, srid):\n",
    "    \"\"\"Transform coordinates into a (x,y)-compatible projection\n",
    "\n",
    "    Parameters\n",
    "    ----------\n",
    "    coordinates : dict of 4 float values\n",
    "        Min-x, min-y, max-x and max-y coordinates with keys 'west', 'south',\n",
    "    'east', 'north'\n",
    "    image_filename : str\n",
    "        Image path on the file system (will be used to get the original image\n",
    "    projection)\n",
    "    srid : int\n",
    "        Geographical projection\n",
    "\n",
    "    Returns\n",
    "    -------\n",
    "    dict\n",
    "        Bounding box of the image (west, south, east, north coordinates)\n",
    "    \"\"\"\n",
    "    source = osr.SpatialReference()\n",
    "    source.ImportFromEPSG(srid)\n",
    "    target = osr.SpatialReference()\n",
    "    target.ImportFromEPSG(4326)\n",
    "    transform = osr.CoordinateTransformation(source, target)\n",
    "    x, y = transform.TransformPoint(lat, lon)[:2]\n",
    "    return y, x\n"
   ]
  },
  {
   "cell_type": "code",
   "execution_count": 117,
   "metadata": {},
   "outputs": [],
   "source": [
    "def pixel_to_latlon(x, y, imfeatures):\n",
    "    coordinates = pixel_to_coordinates(x, y, imfeatures)\n",
    "    return set_coordinates_as_x_y(coordinates[0], coordinates[1], imfeatures[\"srid\"])"
   ]
  },
  {
   "cell_type": "code",
   "execution_count": 80,
   "metadata": {},
   "outputs": [
    {
     "ename": "IndexError",
     "evalue": "list index out of range",
     "output_type": "error",
     "traceback": [
      "\u001b[0;31m---------------------------------------------------------------\u001b[0m",
      "\u001b[0;31mIndexError\u001b[0m                    Traceback (most recent call last)",
      "\u001b[0;32m<ipython-input-80-eaa1b2042455>\u001b[0m in \u001b[0;36m<module>\u001b[0;34m()\u001b[0m\n\u001b[0;32m----> 1\u001b[0;31m \u001b[0mpixel_to_latlon\u001b[0m\u001b[0;34m(\u001b[0m\u001b[0mcontours\u001b[0m\u001b[0;34m[\u001b[0m\u001b[0;36m1\u001b[0m\u001b[0;34m]\u001b[0m\u001b[0;34m[\u001b[0m\u001b[0;36m0\u001b[0m\u001b[0;34m]\u001b[0m\u001b[0;34m[\u001b[0m\u001b[0;36m0\u001b[0m\u001b[0;34m]\u001b[0m\u001b[0;34m[\u001b[0m\u001b[0;36m0\u001b[0m\u001b[0;34m]\u001b[0m\u001b[0;34m,\u001b[0m \u001b[0mcontours\u001b[0m\u001b[0;34m[\u001b[0m\u001b[0;36m1\u001b[0m\u001b[0;34m]\u001b[0m\u001b[0;34m[\u001b[0m\u001b[0;36m0\u001b[0m\u001b[0;34m]\u001b[0m\u001b[0;34m[\u001b[0m\u001b[0;36m0\u001b[0m\u001b[0;34m]\u001b[0m\u001b[0;34m[\u001b[0m\u001b[0;36m1\u001b[0m\u001b[0;34m]\u001b[0m\u001b[0;34m,\u001b[0m \u001b[0mimfeatures\u001b[0m\u001b[0;34m)\u001b[0m\u001b[0;34m\u001b[0m\u001b[0m\n\u001b[0m",
      "\u001b[0;31mIndexError\u001b[0m: list index out of range"
     ]
    }
   ],
   "source": [
    "pixel_to_latlon(contours[1][0][0][0], contours[1][0][0][1], imfeatures)"
   ]
  },
  {
   "cell_type": "code",
   "execution_count": 118,
   "metadata": {},
   "outputs": [],
   "source": [
    "def build_geom(building, imfeatures=None, pixel=False, min_x=2500, min_y=2500):\n",
    "    feature = []\n",
    "    for point in building:\n",
    "        if pixel:\n",
    "            feature.append((int(min_x + point[0][0]), min_y + int(point[0][1])))\n",
    "        else:\n",
    "            feature.append(pixel_to_latlon(point[0][0], point[0][1], imfeatures))\n",
    "    feature.append(feature[0])\n",
    "    return feature"
   ]
  },
  {
   "cell_type": "code",
   "execution_count": 69,
   "metadata": {},
   "outputs": [
    {
     "ename": "IndexError",
     "evalue": "list index out of range",
     "output_type": "error",
     "traceback": [
      "\u001b[0;31m---------------------------------------------------------------\u001b[0m",
      "\u001b[0;31mIndexError\u001b[0m                    Traceback (most recent call last)",
      "\u001b[0;32m<ipython-input-69-dcb469325c5d>\u001b[0m in \u001b[0;36m<module>\u001b[0;34m()\u001b[0m\n\u001b[0;32m----> 1\u001b[0;31m \u001b[0mfeature\u001b[0m \u001b[0;34m=\u001b[0m \u001b[0mbuild_geom\u001b[0m\u001b[0;34m(\u001b[0m\u001b[0mcontours\u001b[0m\u001b[0;34m[\u001b[0m\u001b[0;36m4\u001b[0m\u001b[0;34m]\u001b[0m\u001b[0;34m)\u001b[0m \u001b[0;34m;\u001b[0m \u001b[0mprint\u001b[0m\u001b[0;34m(\u001b[0m\u001b[0mlen\u001b[0m\u001b[0;34m(\u001b[0m\u001b[0mfeature\u001b[0m\u001b[0;34m)\u001b[0m\u001b[0;34m)\u001b[0m\u001b[0;34m\u001b[0m\u001b[0m\n\u001b[0m",
      "\u001b[0;31mIndexError\u001b[0m: list index out of range"
     ]
    }
   ],
   "source": [
    "feature = build_geom(contours[4]) ; print(len(feature))"
   ]
  },
  {
   "cell_type": "code",
   "execution_count": 40,
   "metadata": {},
   "outputs": [],
   "source": [
    "results = pd.DataFrame(columns=[\"building_id\", \"conf_foundation\",\n",
    "                                \"conf_unfinished\", \"conf_completed\",\n",
    "                                \"coords_geo\", \"coords_pixel\"],\n",
    "                      dtype=float)\n",
    "results[\"building_id\"] = results[\"building_id\"].astype(int)"
   ]
  },
  {
   "cell_type": "code",
   "execution_count": 41,
   "metadata": {},
   "outputs": [],
   "source": [
    "for i, building in enumerate(contours):\n",
    "    feature = build_geom(building, pixel=False)\n",
    "    pixel_feature = build_geom(building, pixel=True)\n",
    "    geom = geojson.Polygon([feature])\n",
    "    shape = shgeom.shape(geom)\n",
    "    pixel_geom = geojson.Polygon([pixel_feature])\n",
    "    pixel_shape = shgeom.shape(pixel_geom)\n",
    "    results.loc[i] = [int(i), np.nan, np.nan, np.nan, shape.wkt, pixel_shape.wkt]"
   ]
  },
  {
   "cell_type": "code",
   "execution_count": 42,
   "metadata": {},
   "outputs": [
    {
     "data": {
      "text/html": [
       "<div>\n",
       "<style scoped>\n",
       "    .dataframe tbody tr th:only-of-type {\n",
       "        vertical-align: middle;\n",
       "    }\n",
       "\n",
       "    .dataframe tbody tr th {\n",
       "        vertical-align: top;\n",
       "    }\n",
       "\n",
       "    .dataframe thead th {\n",
       "        text-align: right;\n",
       "    }\n",
       "</style>\n",
       "<table border=\"1\" class=\"dataframe\">\n",
       "  <thead>\n",
       "    <tr style=\"text-align: right;\">\n",
       "      <th></th>\n",
       "      <th>building_id</th>\n",
       "      <th>conf_foundation</th>\n",
       "      <th>conf_unfinished</th>\n",
       "      <th>conf_completed</th>\n",
       "      <th>coords_geo</th>\n",
       "      <th>coords_pixel</th>\n",
       "    </tr>\n",
       "  </thead>\n",
       "  <tbody>\n",
       "    <tr>\n",
       "      <th>0</th>\n",
       "      <td>0</td>\n",
       "      <td>NaN</td>\n",
       "      <td>NaN</td>\n",
       "      <td>NaN</td>\n",
       "      <td>POLYGON ((-97.70303287927612 30.26347644337314...</td>\n",
       "      <td>POLYGON ((2543 2559, 2542 2560, 2542 2562, 254...</td>\n",
       "    </tr>\n",
       "    <tr>\n",
       "      <th>1</th>\n",
       "      <td>1</td>\n",
       "      <td>NaN</td>\n",
       "      <td>NaN</td>\n",
       "      <td>NaN</td>\n",
       "      <td>POLYGON ((-97.70268045901072 30.26340076746406...</td>\n",
       "      <td>POLYGON ((2651 2532, 2650 2533, 2650 2534, 264...</td>\n",
       "    </tr>\n",
       "    <tr>\n",
       "      <th>2</th>\n",
       "      <td>2</td>\n",
       "      <td>NaN</td>\n",
       "      <td>NaN</td>\n",
       "      <td>NaN</td>\n",
       "      <td>POLYGON ((-97.70268990325901 30.26347304584646...</td>\n",
       "      <td>POLYGON ((2648 2559, 2649 2558, 2650 2559, 264...</td>\n",
       "    </tr>\n",
       "    <tr>\n",
       "      <th>3</th>\n",
       "      <td>3</td>\n",
       "      <td>NaN</td>\n",
       "      <td>NaN</td>\n",
       "      <td>NaN</td>\n",
       "      <td>POLYGON ((-97.70270029647079 30.26347314881501...</td>\n",
       "      <td>POLYGON ((2646 2558, 2647 2557, 2648 2558, 264...</td>\n",
       "    </tr>\n",
       "    <tr>\n",
       "      <th>4</th>\n",
       "      <td>4</td>\n",
       "      <td>NaN</td>\n",
       "      <td>NaN</td>\n",
       "      <td>NaN</td>\n",
       "      <td>POLYGON ((-97.70267962866791 30.26346392095051...</td>\n",
       "      <td>POLYGON ((2651 2557, 2652 2556, 2653 2556, 265...</td>\n",
       "    </tr>\n",
       "    <tr>\n",
       "      <th>5</th>\n",
       "      <td>5</td>\n",
       "      <td>NaN</td>\n",
       "      <td>NaN</td>\n",
       "      <td>NaN</td>\n",
       "      <td>POLYGON ((-97.7027108083004 30.26346422985603,...</td>\n",
       "      <td>POLYGON ((2643 2557, 2644 2556, 2645 2556, 264...</td>\n",
       "    </tr>\n",
       "    <tr>\n",
       "      <th>6</th>\n",
       "      <td>6</td>\n",
       "      <td>NaN</td>\n",
       "      <td>NaN</td>\n",
       "      <td>NaN</td>\n",
       "      <td>POLYGON ((-97.70260865559651 30.26332787124567...</td>\n",
       "      <td>POLYGON ((2674 2508, 2673 2509, 2673 2510, 267...</td>\n",
       "    </tr>\n",
       "    <tr>\n",
       "      <th>7</th>\n",
       "      <td>7</td>\n",
       "      <td>NaN</td>\n",
       "      <td>NaN</td>\n",
       "      <td>NaN</td>\n",
       "      <td>POLYGON ((-97.70295163109802 30.26333126897046...</td>\n",
       "      <td>POLYGON ((2570 2507, 2569 2508, 2569 2510, 256...</td>\n",
       "    </tr>\n",
       "    <tr>\n",
       "      <th>8</th>\n",
       "      <td>8</td>\n",
       "      <td>NaN</td>\n",
       "      <td>NaN</td>\n",
       "      <td>NaN</td>\n",
       "      <td>POLYGON ((-97.70243220855512 30.26330807670039...</td>\n",
       "      <td>POLYGON ((2729 2500, 2730 2500, 2731 2501, 273...</td>\n",
       "    </tr>\n",
       "    <tr>\n",
       "      <th>9</th>\n",
       "      <td>9</td>\n",
       "      <td>NaN</td>\n",
       "      <td>NaN</td>\n",
       "      <td>NaN</td>\n",
       "      <td>POLYGON ((-97.70255692687878 30.26330931250785...</td>\n",
       "      <td>POLYGON ((2690 2500, 2689 2501, 2691 2501, 269...</td>\n",
       "    </tr>\n",
       "  </tbody>\n",
       "</table>\n",
       "</div>"
      ],
      "text/plain": [
       "   building_id  conf_foundation  conf_unfinished  conf_completed  \\\n",
       "0            0              NaN              NaN             NaN   \n",
       "1            1              NaN              NaN             NaN   \n",
       "2            2              NaN              NaN             NaN   \n",
       "3            3              NaN              NaN             NaN   \n",
       "4            4              NaN              NaN             NaN   \n",
       "5            5              NaN              NaN             NaN   \n",
       "6            6              NaN              NaN             NaN   \n",
       "7            7              NaN              NaN             NaN   \n",
       "8            8              NaN              NaN             NaN   \n",
       "9            9              NaN              NaN             NaN   \n",
       "\n",
       "                                          coords_geo  \\\n",
       "0  POLYGON ((-97.70303287927612 30.26347644337314...   \n",
       "1  POLYGON ((-97.70268045901072 30.26340076746406...   \n",
       "2  POLYGON ((-97.70268990325901 30.26347304584646...   \n",
       "3  POLYGON ((-97.70270029647079 30.26347314881501...   \n",
       "4  POLYGON ((-97.70267962866791 30.26346392095051...   \n",
       "5  POLYGON ((-97.7027108083004 30.26346422985603,...   \n",
       "6  POLYGON ((-97.70260865559651 30.26332787124567...   \n",
       "7  POLYGON ((-97.70295163109802 30.26333126897046...   \n",
       "8  POLYGON ((-97.70243220855512 30.26330807670039...   \n",
       "9  POLYGON ((-97.70255692687878 30.26330931250785...   \n",
       "\n",
       "                                        coords_pixel  \n",
       "0  POLYGON ((2543 2559, 2542 2560, 2542 2562, 254...  \n",
       "1  POLYGON ((2651 2532, 2650 2533, 2650 2534, 264...  \n",
       "2  POLYGON ((2648 2559, 2649 2558, 2650 2559, 264...  \n",
       "3  POLYGON ((2646 2558, 2647 2557, 2648 2558, 264...  \n",
       "4  POLYGON ((2651 2557, 2652 2556, 2653 2556, 265...  \n",
       "5  POLYGON ((2643 2557, 2644 2556, 2645 2556, 264...  \n",
       "6  POLYGON ((2674 2508, 2673 2509, 2673 2510, 267...  \n",
       "7  POLYGON ((2570 2507, 2569 2508, 2569 2510, 256...  \n",
       "8  POLYGON ((2729 2500, 2730 2500, 2731 2501, 273...  \n",
       "9  POLYGON ((2690 2500, 2689 2501, 2691 2501, 269...  "
      ]
     },
     "execution_count": 42,
     "metadata": {},
     "output_type": "execute_result"
    }
   ],
   "source": [
    "results"
   ]
  },
  {
   "cell_type": "markdown",
   "metadata": {},
   "source": [
    "## Exploit a Mask-RCNN result"
   ]
  },
  {
   "cell_type": "code",
   "execution_count": 99,
   "metadata": {},
   "outputs": [
    {
     "name": "stdout",
     "output_type": "stream",
     "text": [
      "/home/rde/data/open_ai_tanzania/preprocessed/384/testing/predicted_labels/5ae242fd0b093000130afd33_384_384_8832_39168.json\n",
      "/home/rde/data/open_ai_tanzania/preprocessed/384/testing/features/5ae242fd0b093000130afd33_384_384_8832_39168.json\n"
     ]
    }
   ],
   "source": [
    "dataset = \"open_ai_tanzania\"\n",
    "filepath = os.path.join(\"preprocessed\", \"384\", \"testing\", \"predicted_labels\", \"5ae242fd0b093000130afd33_384_384_8832_39168.json\")\n",
    "filename = os.path.join(datapath, dataset, filepath)\n",
    "print(filename)\n",
    "feature_filepath = os.path.join(\"preprocessed\", \"384\", \"testing\", \"features\", \"5ae242fd0b093000130afd33_384_384_8832_39168.json\")\n",
    "feature_filename = os.path.join(datapath, dataset, feature_filepath)\n",
    "print(feature_filename)"
   ]
  },
  {
   "cell_type": "code",
   "execution_count": 10,
   "metadata": {},
   "outputs": [],
   "source": [
    "with open(filename) as f:\n",
    "    prediction = json.load(f)"
   ]
  },
  {
   "cell_type": "code",
   "execution_count": 100,
   "metadata": {},
   "outputs": [],
   "source": [
    "with open(feature_filename) as ff:\n",
    "    geofeatures = json.load(ff)"
   ]
  },
  {
   "cell_type": "code",
   "execution_count": 101,
   "metadata": {},
   "outputs": [
    {
     "data": {
      "text/plain": [
       "{'west': 532340.0483951569,\n",
       " 'south': 9347423.337621689,\n",
       " 'east': 532366.9091949463,\n",
       " 'north': 9347450.198421478,\n",
       " 'srid': 32737,\n",
       " 'width': 384,\n",
       " 'height': 384}"
      ]
     },
     "execution_count": 101,
     "metadata": {},
     "output_type": "execute_result"
    }
   ],
   "source": [
    "geofeatures"
   ]
  },
  {
   "cell_type": "code",
   "execution_count": 11,
   "metadata": {},
   "outputs": [
    {
     "data": {
      "text/plain": [
       "dict_keys(['masks', 'class_ids', 'scores'])"
      ]
     },
     "execution_count": 11,
     "metadata": {},
     "output_type": "execute_result"
    }
   ],
   "source": [
    "prediction.keys()"
   ]
  },
  {
   "cell_type": "code",
   "execution_count": 12,
   "metadata": {},
   "outputs": [],
   "source": [
    "masks = np.array(prediction[\"masks\"], dtype=np.uint8)\n",
    "class_ids = np.array(prediction[\"class_ids\"], dtype=np.int8)\n",
    "scores = np.array(prediction[\"scores\"], dtype=np.float32)"
   ]
  },
  {
   "cell_type": "code",
   "execution_count": 13,
   "metadata": {},
   "outputs": [
    {
     "data": {
      "text/plain": [
       "(array([1, 1, 2], dtype=int8),\n",
       " array([0.9999627, 0.9996332, 0.9908708], dtype=float32))"
      ]
     },
     "execution_count": 13,
     "metadata": {},
     "output_type": "execute_result"
    }
   ],
   "source": [
    "class_ids, scores"
   ]
  },
  {
   "cell_type": "code",
   "execution_count": 14,
   "metadata": {},
   "outputs": [
    {
     "data": {
      "image/png": "[encoded data removed]",
      "text/plain": [
       "<Figure size 576x216 with 3 Axes>"
      ]
     },
     "metadata": {
      "needs_background": "light"
     },
     "output_type": "display_data"
    }
   ],
   "source": [
    "f, ax = plt.subplots(1, 3, figsize=(8, 3))\n",
    "for i in range(3):\n",
    "    ax[i].imshow(masks[i])"
   ]
  },
  {
   "cell_type": "code",
   "execution_count": 15,
   "metadata": {},
   "outputs": [
    {
     "data": {
      "image/png": "[encoded data removed]",
      "text/plain": [
       "<Figure size 576x216 with 3 Axes>"
      ]
     },
     "metadata": {
      "needs_background": "light"
     },
     "output_type": "display_data"
    }
   ],
   "source": [
    "f, ax = plt.subplots(1, 3, figsize=(8, 3))\n",
    "structure = cv2.getStructuringElement(cv2.MORPH_ELLIPSE, (5, 5))\n",
    "for i in range(3):\n",
    "    denoised = cv2.morphologyEx(masks[i], cv2.MORPH_OPEN, structure)\n",
    "    ax[i].imshow(denoised)"
   ]
  },
  {
   "cell_type": "code",
   "execution_count": 16,
   "metadata": {},
   "outputs": [
    {
     "data": {
      "image/png": "[encoded data removed]",
      "text/plain": [
       "<Figure size 576x216 with 3 Axes>"
      ]
     },
     "metadata": {
      "needs_background": "light"
     },
     "output_type": "display_data"
    }
   ],
   "source": [
    "f, ax = plt.subplots(1, 3, figsize=(8, 3))\n",
    "structure = cv2.getStructuringElement(cv2.MORPH_ELLIPSE, (5, 5))\n",
    "for i in range(3):\n",
    "    denoised = cv2.morphologyEx(masks[i], cv2.MORPH_OPEN, structure)\n",
    "    grown = cv2.morphologyEx(denoised, cv2.MORPH_CLOSE, structure)\n",
    "    ax[i].imshow(grown)"
   ]
  },
  {
   "cell_type": "code",
   "execution_count": 17,
   "metadata": {},
   "outputs": [],
   "source": [
    "def extract_geometry(mask, structure):\n",
    "    \"\"\"\n",
    "    \"\"\"\n",
    "    denoised = cv2.morphologyEx(mask, cv2.MORPH_OPEN, structure)\n",
    "    grown = cv2.morphologyEx(denoised, cv2.MORPH_CLOSE, structure)\n",
    "    _, contours, hierarchy = cv2.findContours(grown, cv2.RETR_TREE, cv2.CHAIN_APPROX_SIMPLE)\n",
    "    polygons = [cv2.approxPolyDP(c, epsilon=0.01*cv2.arcLength(c, closed=True), closed=True)\n",
    "                for c in contours]\n",
    "    return polygons"
   ]
  },
  {
   "cell_type": "code",
   "execution_count": 18,
   "metadata": {},
   "outputs": [],
   "source": [
    "_, contours, hierarchy = cv2.findContours(masks[0], cv2.RETR_TREE, cv2.CHAIN_APPROX_SIMPLE)\n",
    "hierarchy = hierarchy[0]"
   ]
  },
  {
   "cell_type": "code",
   "execution_count": 19,
   "metadata": {},
   "outputs": [
    {
     "data": {
      "text/plain": [
       "array([[[305, 304]],\n",
       "\n",
       "       [[304, 305]],\n",
       "\n",
       "       [[286, 305]],\n",
       "\n",
       "       [[285, 306]],\n",
       "\n",
       "       [[264, 306]],\n",
       "\n",
       "       [[263, 307]],\n",
       "\n",
       "       [[246, 307]],\n",
       "\n",
       "       [[245, 306]],\n",
       "\n",
       "       [[228, 306]],\n",
       "\n",
       "       [[227, 307]],\n",
       "\n",
       "       [[226, 307]],\n",
       "\n",
       "       [[224, 309]],\n",
       "\n",
       "       [[223, 309]],\n",
       "\n",
       "       [[221, 311]],\n",
       "\n",
       "       [[221, 312]],\n",
       "\n",
       "       [[220, 313]],\n",
       "\n",
       "       [[220, 314]],\n",
       "\n",
       "       [[219, 315]],\n",
       "\n",
       "       [[219, 317]],\n",
       "\n",
       "       [[218, 318]],\n",
       "\n",
       "       [[218, 320]],\n",
       "\n",
       "       [[217, 321]],\n",
       "\n",
       "       [[217, 323]],\n",
       "\n",
       "       [[216, 324]],\n",
       "\n",
       "       [[216, 326]],\n",
       "\n",
       "       [[215, 327]],\n",
       "\n",
       "       [[215, 329]],\n",
       "\n",
       "       [[214, 330]],\n",
       "\n",
       "       [[214, 332]],\n",
       "\n",
       "       [[213, 333]],\n",
       "\n",
       "       [[213, 336]],\n",
       "\n",
       "       [[212, 337]],\n",
       "\n",
       "       [[212, 341]],\n",
       "\n",
       "       [[211, 342]],\n",
       "\n",
       "       [[211, 345]],\n",
       "\n",
       "       [[212, 346]],\n",
       "\n",
       "       [[209, 349]],\n",
       "\n",
       "       [[210, 350]],\n",
       "\n",
       "       [[210, 352]],\n",
       "\n",
       "       [[209, 353]],\n",
       "\n",
       "       [[209, 354]],\n",
       "\n",
       "       [[208, 355]],\n",
       "\n",
       "       [[208, 356]],\n",
       "\n",
       "       [[207, 357]],\n",
       "\n",
       "       [[207, 358]],\n",
       "\n",
       "       [[206, 359]],\n",
       "\n",
       "       [[206, 360]],\n",
       "\n",
       "       [[204, 362]],\n",
       "\n",
       "       [[201, 362]],\n",
       "\n",
       "       [[200, 363]],\n",
       "\n",
       "       [[199, 363]],\n",
       "\n",
       "       [[198, 364]],\n",
       "\n",
       "       [[198, 366]],\n",
       "\n",
       "       [[199, 367]],\n",
       "\n",
       "       [[194, 372]],\n",
       "\n",
       "       [[194, 375]],\n",
       "\n",
       "       [[193, 376]],\n",
       "\n",
       "       [[193, 378]],\n",
       "\n",
       "       [[192, 379]],\n",
       "\n",
       "       [[193, 380]],\n",
       "\n",
       "       [[193, 382]],\n",
       "\n",
       "       [[199, 382]],\n",
       "\n",
       "       [[200, 383]],\n",
       "\n",
       "       [[346, 383]],\n",
       "\n",
       "       [[347, 382]],\n",
       "\n",
       "       [[350, 382]],\n",
       "\n",
       "       [[351, 381]],\n",
       "\n",
       "       [[351, 380]],\n",
       "\n",
       "       [[352, 379]],\n",
       "\n",
       "       [[352, 377]],\n",
       "\n",
       "       [[351, 376]],\n",
       "\n",
       "       [[351, 350]],\n",
       "\n",
       "       [[352, 349]],\n",
       "\n",
       "       [[352, 318]],\n",
       "\n",
       "       [[353, 317]],\n",
       "\n",
       "       [[353, 313]],\n",
       "\n",
       "       [[354, 312]],\n",
       "\n",
       "       [[354, 311]],\n",
       "\n",
       "       [[355, 310]],\n",
       "\n",
       "       [[354, 309]],\n",
       "\n",
       "       [[354, 308]],\n",
       "\n",
       "       [[350, 304]]], dtype=int32)"
      ]
     },
     "execution_count": 19,
     "metadata": {},
     "output_type": "execute_result"
    }
   ],
   "source": [
    "contours[0]"
   ]
  },
  {
   "cell_type": "code",
   "execution_count": 20,
   "metadata": {},
   "outputs": [],
   "source": [
    "polygons = [cv2.approxPolyDP(c, epsilon=0.01*cv2.arcLength(c, closed=True), closed=True) for c in contours]"
   ]
  },
  {
   "cell_type": "code",
   "execution_count": 21,
   "metadata": {},
   "outputs": [
    {
     "data": {
      "text/plain": [
       "1"
      ]
     },
     "execution_count": 21,
     "metadata": {},
     "output_type": "execute_result"
    }
   ],
   "source": [
    "len(polygons)"
   ]
  },
  {
   "cell_type": "code",
   "execution_count": 23,
   "metadata": {},
   "outputs": [],
   "source": [
    "contour = extract_geometry(masks[0], structure)[0]"
   ]
  },
  {
   "cell_type": "code",
   "execution_count": 26,
   "metadata": {},
   "outputs": [
    {
     "name": "stdout",
     "output_type": "stream",
     "text": [
      "5\n"
     ]
    }
   ],
   "source": [
    "feature = build_geom(contour, pixel=True, min_x=0, min_y=0) ; print(len(feature))"
   ]
  },
  {
   "cell_type": "code",
   "execution_count": 27,
   "metadata": {},
   "outputs": [
    {
     "data": {
      "text/plain": [
       "[(354, 308), (228, 306), (193, 381), (349, 383), (354, 308)]"
      ]
     },
     "execution_count": 27,
     "metadata": {},
     "output_type": "execute_result"
    }
   ],
   "source": [
    "feature"
   ]
  },
  {
   "cell_type": "code",
   "execution_count": 119,
   "metadata": {},
   "outputs": [],
   "source": [
    "results = []"
   ]
  },
  {
   "cell_type": "code",
   "execution_count": 106,
   "metadata": {},
   "outputs": [],
   "source": [
    "def add_polygon(polygon, class_id, score, results, geofeatures, min_x=0, min_y=0):\n",
    "    \"\"\"\n",
    "    \"\"\"\n",
    "    feature = build_geom(polygon, imfeatures=geofeatures, pixel=False, min_x=min_x, min_y=min_y)\n",
    "    geom = geojson.Polygon([feature])\n",
    "    shape = shgeom.shape(geom)\n",
    "    pixel_feature = build_geom(polygon, pixel=True, min_x=0, min_y=0)\n",
    "    pixel_geom = geojson.Polygon([pixel_feature])\n",
    "    pixel_shape = shgeom.shape(pixel_geom)\n",
    "    predictions = np.zeros([3])\n",
    "    predictions[class_id-1] = score\n",
    "    return results.append([*predictions, shape.wkt, pixel_shape.wkt])"
   ]
  },
  {
   "cell_type": "code",
   "execution_count": 120,
   "metadata": {},
   "outputs": [],
   "source": [
    "for mask, class_id, score in zip(masks, class_ids, scores):\n",
    "    polygon = extract_geometry(mask, structure)\n",
    "    add_polygon(polygon[0], class_id, score, results, geofeatures, min_x=8832, min_y=39168)"
   ]
  },
  {
   "cell_type": "code",
   "execution_count": 121,
   "metadata": {},
   "outputs": [],
   "source": [
    "df = pd.DataFrame(results, columns=[\"conf_completed\", \"conf_unfinished\", \"conf_foundation\", \"coords_geo\", \"coords_pixel\"])"
   ]
  },
  {
   "cell_type": "code",
   "execution_count": 123,
   "metadata": {},
   "outputs": [
    {
     "data": {
      "text/html": [
       "<div>\n",
       "<style scoped>\n",
       "    .dataframe tbody tr th:only-of-type {\n",
       "        vertical-align: middle;\n",
       "    }\n",
       "\n",
       "    .dataframe tbody tr th {\n",
       "        vertical-align: top;\n",
       "    }\n",
       "\n",
       "    .dataframe thead th {\n",
       "        text-align: right;\n",
       "    }\n",
       "</style>\n",
       "<table border=\"1\" class=\"dataframe\">\n",
       "  <thead>\n",
       "    <tr style=\"text-align: right;\">\n",
       "      <th></th>\n",
       "      <th>conf_completed</th>\n",
       "      <th>conf_unfinished</th>\n",
       "      <th>conf_foundation</th>\n",
       "      <th>coords_geo</th>\n",
       "      <th>coords_pixel</th>\n",
       "    </tr>\n",
       "  </thead>\n",
       "  <tbody>\n",
       "    <tr>\n",
       "      <th>0</th>\n",
       "      <td>0.999963</td>\n",
       "      <td>0.000000</td>\n",
       "      <td>0.0</td>\n",
       "      <td>POLYGON ((-5.903592635607452 39.29238626290743...</td>\n",
       "      <td>POLYGON ((354 308, 228 306, 193 381, 349 383, ...</td>\n",
       "    </tr>\n",
       "    <tr>\n",
       "      <th>1</th>\n",
       "      <td>0.999633</td>\n",
       "      <td>0.000000</td>\n",
       "      <td>0.0</td>\n",
       "      <td>POLYGON ((-5.903737427574555 39.29228696226991...</td>\n",
       "      <td>POLYGON ((190 68, 189 160, 204 217, 250 229, 3...</td>\n",
       "    </tr>\n",
       "    <tr>\n",
       "      <th>2</th>\n",
       "      <td>0.000000</td>\n",
       "      <td>0.990871</td>\n",
       "      <td>0.0</td>\n",
       "      <td>POLYGON ((-5.903773622004038 39.2922689127742,...</td>\n",
       "      <td>POLYGON ((159 23, 165 35, 277 33, 281 27, 281 ...</td>\n",
       "    </tr>\n",
       "  </tbody>\n",
       "</table>\n",
       "</div>"
      ],
      "text/plain": [
       "   conf_completed  conf_unfinished  conf_foundation  \\\n",
       "0        0.999963         0.000000              0.0   \n",
       "1        0.999633         0.000000              0.0   \n",
       "2        0.000000         0.990871              0.0   \n",
       "\n",
       "                                          coords_geo  \\\n",
       "0  POLYGON ((-5.903592635607452 39.29238626290743...   \n",
       "1  POLYGON ((-5.903737427574555 39.29228696226991...   \n",
       "2  POLYGON ((-5.903773622004038 39.2922689127742,...   \n",
       "\n",
       "                                        coords_pixel  \n",
       "0  POLYGON ((354 308, 228 306, 193 381, 349 383, ...  \n",
       "1  POLYGON ((190 68, 189 160, 204 217, 250 229, 3...  \n",
       "2  POLYGON ((159 23, 165 35, 277 33, 281 27, 281 ...  "
      ]
     },
     "execution_count": 123,
     "metadata": {},
     "output_type": "execute_result"
    }
   ],
   "source": [
    "df"
   ]
  },
  {
   "cell_type": "code",
   "execution_count": 122,
   "metadata": {},
   "outputs": [
    {
     "data": {
      "text/plain": [
       "'POLYGON ((-5.903592635607452 39.29238626290743, -5.903592678335506 39.29230495487564, -5.903547456658382 39.29228686272261, -5.903538358203164 39.29238623445605, -5.903592635607452 39.29238626290743))'"
      ]
     },
     "execution_count": 122,
     "metadata": {},
     "output_type": "execute_result"
    }
   ],
   "source": [
    "df[\"coords_geo\"][0]"
   ]
  }
 ],
 "metadata": {
  "kernelspec": {
   "display_name": "Python 3",
   "language": "python",
   "name": "python3"
  },
  "language_info": {
   "codemirror_mode": {
    "name": "ipython",
    "version": 3
   },
   "file_extension": ".py",
   "mimetype": "text/x-python",
   "name": "python",
   "nbconvert_exporter": "python",
   "pygments_lexer": "ipython3",
   "version": "3.6.5"
  }
 },
 "nbformat": 4,
 "nbformat_minor": 2
}
